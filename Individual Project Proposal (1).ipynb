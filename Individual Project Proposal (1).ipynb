{
 "cells": [
  {
   "cell_type": "markdown",
   "id": "e33376e8",
   "metadata": {},
   "source": [
    "Analysis 1 (2022 cross data):\n",
    "\n",
    "Research question: How does being single vs being in a relationship affect the self-reported happiness of individuals as they grow older?\n",
    "\n",
    "Variables: \n",
    "DEMO_relationship_status: This variable represents the relationship status of the individuals, which separates them into 8 different categories. But, from those 8 categories, they can be more simply divided into 2 groups: single, or in a relationship. I would thus use a bar plot for relationship status since it is binary data.\n",
    "WELLNESS_subjective_happiness_scale_happy: This variable represents the happiness that individuals self-reported on a scale from 1-10. I would also use a bar plot for happiness because it uses discrete values in the data.\n",
    "DEMO_age: This variable is the age of the individuals in integer form. I would also use a bar plot for age because it uses discrete values in the data. \n",
    "I choose these variables because together they can reflect the importance of a relationship to one’s happiness (or how it is not important in determining happiness). I also chose the variable of age because as people grow older, their view on relationships may change, especially if they have been in a relationship for a long time. These variables can contribute to the understanding of how social support, companionship, and emotional stability derived from relationships affect happiness across the lifespan. \n",
    "\n",
    "Analysis: Permutation testing under assumption that the null hypothesis is true. I will separate the data into different age groups, then within those age groups, I will separate them into: single or in a relationship. Then I will use permutation testing on each age group. I will permute the data under the assumption that the null-hypothesis is true (that there is no effect of relationship status on happiness). Then, I will compare the p-value estimated, with a pre-determined significance level to determine whether the null hypothesis can be rejected or fail to be rejected. After getting the data from all the age ranges, I will compare them to see if there is a relationship between age and happiness being in a relationship vs not in a relationship. \n",
    "\n",
    "Hypothesis: \n",
    "Null: The relationship status of an individual and their self-reported happiness does not vary with age. \n",
    "Alternative: The relationship status of an individual and their self-reported happiness does vary with age. If the age groups fail to reject the null hypothesis, then it means that there is no trend in the relationship status that affects happiness. But, if the results reject the null hypothesis, then relationship status affects the happiness, either positively or negatively. Overall, if all the age groups fail to reject the null hypothesis, then being in a relationship does not affect happiness, and thus does not change as individuals get older. But, if there is rejection of the null hypothesis, it could show that certain age ranges’ happiness levels are affected by their relationship status. Then, there could possibly also be a correlation with age. \n",
    "\n",
    "Analysis 2 (2022 cross data):\n",
    "\n",
    "Research question: How does growing up with an adult who one could share one’s thoughts and feelings with, affect an individual’s confidence in their ability to open up to others in social relationships? \n",
    "\n",
    "Variables: \n",
    "LIFECOURSE_childhood_adult_relationships_unknown_scale_share: This variable represents how often did individuals have an adult who they could share their thoughts and feelings with. The answers are categorical: none, a little, some, most, all. Thus, using a bar plot would be the best visualization.\n",
    "PSYCH_dang_liu_social_self_efficacy_scale_open_up: This variable represents the confidence in an individual’s ability to open up to others in social relationships. The answers are discrete integers from 1-10. Thus, using a bar plot would be the best visualization. \n",
    "I chose these variables because there might be some correlation between how much one was listened to as a child that might affect how easily they feel opening up to others. This can show how important experiences in our childhood can affect and shape how we function later in our lives. \n",
    "\n",
    "Analysis: I will first use a bar plot to graph how often an individual had an adult listen to them while growing up, on the x-axis, and the confidence of opening up on the y-axis. Then I will use bootstrapping to sample with replacement from all the data points (individuals), assuming that this sample is the population. There must also be the same number of data points in each sample as the original sample. Then, a confidence interval will be calculated using the 2.5% and 97.5% percentiles.\n",
    "\n",
    "Hypothesis: \n",
    "Null: There is no relationship between having an adult who listened to you while growing up and how confident an individual is opening up to others in social relationships. \n",
    "Alternative: There is no relationship between having an adult who listened to you while growing up and how confident an individual is opening up to others in social relationships. If the null hypothesis is in the confidence interval, we fail to reject the null. If the null hypothesis is outside the confidence interval, we reject the null. \n",
    "\n",
    "Analysis 3 (2022 cross data):\n",
    "\n",
    "Research question: How does the amount of time socializing with friends (in a week) affect if an individual sees themselves as someone who starts arguments with others?\n",
    "\n",
    "Variables:\n",
    "CONNECTION_preference_time_friends: This variable is the number of hours each week that an individual spends with their friends. It is a categorical value in the data with the answers separated into ranges: no time, less than 1 hour, 1 to 4 hours, and 5 or more hours. Thus, to visualize this variable, it would be best to use a bar plot.  \n",
    "PSYCH_big_five_inventory_arguments: This variable represents if an individual sees themself as someone who starts arguments with others. It has answers of:  disagree strongly, disagree a little, neither agree or disagree, agree a little, and agree strongly. It is categorical, thus the best visualization would be a bar plot. \n",
    "I chose these variables because they can show how the amount of time spent socializing with friends may influence one’s tendency to engage in conflict, which can impact the quality of relationships and, by extension, overall well-being. By examining this relationship, we gain insight into how social connection and community engagement may shape interpersonal behavior, affecting mental and emotional health. \n",
    "\n",
    "Analysis: I will use a stacked bar plot for the visualization of graphing the data against each other. To analyze the data, I will use the chi-square test of independence since it determines whether there's a statistically significant association between two categorical variables. \n",
    "\n",
    "Hypothesis: \n",
    "Null: The amount of time socializing with friends (in a week) does not affect if an individual sees themselves as someone who starts arguments with others.\n",
    "Alternative: The amount of time socializing with friends (in a week) does affect if an individual sees themselves as someone who starts arguments with others.\n",
    "If the p-value is below the predetermined significance level, this suggests a statistically significant association between the two variables, meaning that the amount of time spent with friends has an effect on if an individual sees themselves as someone who starts arguments with others (reject the null hypothesis). Otherwise, there is no effect and we fail to reject the null hypothesis. \n",
    "Overall, it will show whether time socializing with friends (in a week) positively, negatively, or does not affect if an individual sees themselves as someone who starts arguments with others.\n"
   ]
  },
  {
   "cell_type": "code",
   "execution_count": null,
   "id": "ba68f43c",
   "metadata": {},
   "outputs": [],
   "source": []
  }
 ],
 "metadata": {
  "kernelspec": {
   "display_name": "Python 3 (ipykernel)",
   "language": "python",
   "name": "python3"
  },
  "language_info": {
   "codemirror_mode": {
    "name": "ipython",
    "version": 3
   },
   "file_extension": ".py",
   "mimetype": "text/x-python",
   "name": "python",
   "nbconvert_exporter": "python",
   "pygments_lexer": "ipython3",
   "version": "3.11.6"
  }
 },
 "nbformat": 4,
 "nbformat_minor": 5
}
