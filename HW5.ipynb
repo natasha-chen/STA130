{
 "cells": [
  {
   "cell_type": "markdown",
   "id": "ed26d7f0",
   "metadata": {},
   "source": [
    "Question 1.\n",
    "The key factor that makes the difference between ideas that can and cannot be examined and tested statistically is having data that is quantifiable and can produce measureable data. It must be able to be observed and recorded in a way that allows for statistical analysis.\n",
    "The key criteria for a good null hypothesis is one that is specific and testable and that statistical data can be used to reject for fail to reject it\n",
    "The difference between null and alternative hypothesis is that the null usually claims no effect, while the alternative claims the opposite, which is that there is a difference. Hypothesis testing, will gather evidence to determine whether to reject the null hypothesis and support the alternative, or not. "
   ]
  },
  {
   "cell_type": "markdown",
   "id": "2f1a1e45",
   "metadata": {},
   "source": [
    "Question 2. \n",
    "\"It is important to note that outcomes of tests refer to the population parameter, rather than the sample statistic! As such, the result that we get is for the population.\"\n",
    " \n",
    "\n",
    "The outcomes of tests(observed sample values) come from a small group(sample), which is used to estimate the outcome from the whole population in the following way: The actual average of the population(μ) is what we want to know, so we use the sample values to estimate. The average value of the population when we assume there is no effect from the test (hypothesized under the null hypothesis), is then compared to the average from the small group (observed sample mean) to see if the real population average (μ) will be different (reject or fail to reject the null hypothesis). Thus, the result we get is for the population through the comparison to the average calculated from the small group under the assumption that there was no effect. \n"
   ]
  },
  {
   "cell_type": "markdown",
   "id": "dba2420d",
   "metadata": {},
   "source": [
    "Question 3.\n",
    "We imagine a world where the null hypothesis is true when calculating a p-value because the p-value is used to determine how likely it is to observe something at least as extreme as the sample statistic under the assumption that there is no effect. "
   ]
  },
  {
   "cell_type": "markdown",
   "id": "bab950c1",
   "metadata": {},
   "source": [
    "Question 4. \n",
    "A smaller p-value makes the null hypothesis look more ridiculous because that means the probability of the test statistic being at least as extreme under the null hypothesis is very unlikely. So, it suggests that the null hypothesis is not plausible and is likely to be rejected."
   ]
  },
  {
   "cell_type": "markdown",
   "id": "4838285d",
   "metadata": {},
   "source": [
    "Question 5.\n",
    "Null hypothesis: there is no head tilt tendency when kissing (there is a 50/50 chance for each side). If right tilt = heads and left tilt = tails, we would get 80 heads and 42 tails from the data. The pobability of getting each is 0.5. The p-value is the probability of getting at least 80 heads if we simulated this 124 coin flip 1000 times, which let's say happened 3 times. Then, the p-value would be 3/1000 = 0.0003. This means that there is evry strong evidence against the null hypothesis since 0.0003<= 0.001. So, we reject the null hypothesis, meaning it is very highly plausible that there is a head tilt tendency. "
   ]
  },
  {
   "cell_type": "markdown",
   "id": "9d910e51",
   "metadata": {},
   "source": [
    "Question 6.\n",
    "A smaller p-value does not prove that the null-hypothesis is false, it just rejects it as being not plausible. It is not possible to definitively ptove that Fideo is innocent or guilty using a p-value. There is never a value of a p-value that can definitely prove anything because it just shows a probability, which can never be 0, thus never excluding a small possibility. "
   ]
  },
  {
   "cell_type": "markdown",
   "id": "0d4136c4",
   "metadata": {},
   "source": [
    "Question 7."
   ]
  },
  {
   "cell_type": "code",
   "execution_count": 1,
   "id": "e48453ee",
   "metadata": {},
   "outputs": [
    {
     "name": "stdout",
     "output_type": "stream",
     "text": [
      "One-tailed p-value: 0.01460526190774628\n"
     ]
    }
   ],
   "source": [
    "import pandas as pd\n",
    "from scipy import stats\n",
    "\n",
    "# Create the patient_data DataFrame\n",
    "patient_data = pd.DataFrame({\n",
    "    \"PatientID\": [1, 2, 3, 4, 5, 6, 7, 8, 9, 10],\n",
    "    \"Age\": [45, 34, 29, 52, 37, 41, 33, 48, 26, 39],\n",
    "    \"Gender\": [\"M\", \"F\", \"M\", \"F\", \"M\", \"F\", \"M\", \"F\", \"M\", \"F\"],\n",
    "    \"InitialHealthScore\": [84, 78, 83, 81, 81, 80, 79, 85, 76, 83],\n",
    "    \"FinalHealthScore\": [86, 86, 80, 86, 84, 86, 86, 82, 83, 84]\n",
    "})\n",
    "\n",
    "# Perform a paired t-test (one-tailed, checking if Final scores are greater than Initial)\n",
    "t_statistic, p_value_two_tailed = stats.ttest_rel(patient_data[\"FinalHealthScore\"], patient_data[\"InitialHealthScore\"])\n",
    "\n",
    "# Convert to one-tailed p-value\n",
    "p_value_one_tailed = p_value_two_tailed / 2 if t_statistic > 0 else 1 - (p_value_two_tailed / 2)\n",
    "\n",
    "# Print the result\n",
    "print(f\"One-tailed p-value: {p_value_one_tailed}\")\n"
   ]
  },
  {
   "cell_type": "markdown",
   "id": "7d5acbdd",
   "metadata": {},
   "source": [
    "For the two-tailed p-value, the code automatically outputted the values in either direction, but for the one-tailed p-value, it had to adjust the p-value for one  direction. The two-tailed checks for difference betweentwo groups, while one-tailed test only checks for one-direction. For the null hypothesis, the two-tailed one has no change in health score, while for the two-tailed one, the null hypothesis is that the final health scores are not greater than, or less than, the inital health scores. Then the alternate hypothesis for two-tailed would be that there is a change in either direction, while one-tailed alternate hypothesis would be be that the final scores are greater than or less than (depending on which side) the initial health scores. In one-tailed, p-value will be smaller because there is focus on only one direction of difference. Two-tailed p-value will always be greater because it splits the probability between both side of the distribution. "
   ]
  },
  {
   "cell_type": "markdown",
   "id": "9c2d3e89",
   "metadata": {},
   "source": [
    "Question 8. \n",
    "Problem Introduction\n",
    "The experiment with STA130 students compared to the original with Fisher and Bristol both aim to test if there is a difference in tea depending on if the milk is poured first, or the tea is poured first, and whether people are able to correctly identify this. The sample in this experiment consists of 80 STA130 students out of the population of all STA130 students, 49 of which were able to correctly state which was poured first. Thus, the observed sample has an observed test statistic of a 61.25% rate of getting the correct answer. \n",
    "Null Hypothesis: There is no difference in the order the tea is made and students are just randomly guessing. Thus, the probabiliy of then getting it right is 50%. \n",
    "More formally: The proportion of students who can correctly identify whether tea or milk was poured first is equal to 0.5, indicating that students are guessing and there is no significant difference from random chance.\n",
    "Alternative Hypothesis: The students can tell a difference and the probability of them being right is greater than 0.5. Thus, the null hypothesis is rejected. \n",
    "\n",
    "Quantitative Analysis\n",
    "The test statistic we used is the proportion of students who got the answer to the order of the tea right. We stated the null and alternate hypothesises, being probability = 0.5 and > 0.5 repspectively. The observed sample was collected from 80 students and it was observed that 49 were correct.The sample proportion is calculated, which is 61.25%. The p-value is caulcualted with the code below using a one-tailed test which shows the probability of observing a sample proportion at least as extreme as 61.25% under the null hypothesis. The p-value is calculated as 0.0009.  \n",
    "\n",
    "Findings and Discussion:\n",
    "Comparing the p-value of 0.0009 to the typical significance value of 0.05, we see that it is much smaller. \n",
    "\n",
    "Conclusion regarding the Null Hypothesis\n",
    "Thus, since the p value is so small, the null hypothesis is rejected because the proability of there being at least 61.25% of students getting the correct answer while just guessing is not plausible. Thus, it's probable there is a difference between pouring tea vs milk first. "
   ]
  },
  {
   "cell_type": "code",
   "execution_count": 2,
   "id": "04b95474",
   "metadata": {},
   "outputs": [
    {
     "name": "stdout",
     "output_type": "stream",
     "text": [
      "Number of correct identifications: 54\n",
      "Sample proportion (p_hat): 0.6750\n",
      "Z-test statistic: 3.1305\n",
      "One-tailed p-value: 0.0009\n"
     ]
    }
   ],
   "source": [
    "import numpy as np\n",
    "import pandas as pd\n",
    "from scipy import stats\n",
    "\n",
    "# Set a random seed for reproducibility\n",
    "np.random.seed(42)\n",
    "\n",
    "# Parameters\n",
    "n = 80            # Total number of students\n",
    "p_true = 0.6125  # True proportion (for simulation purposes)\n",
    "n_correct = int(n * p_true)  # Number of correct identifications\n",
    "\n",
    "# Simulate the outcomes (1 for correct, 0 for incorrect)\n",
    "# Here we assume students are better than guessing by the true proportion\n",
    "outcomes = np.random.binomial(n=1, p=p_true, size=n)\n",
    "\n",
    "# Count correct identifications\n",
    "correct_count = np.sum(outcomes)\n",
    "\n",
    "# Calculate sample proportion\n",
    "p_hat = correct_count / n\n",
    "\n",
    "# Null hypothesis proportion\n",
    "p_0 = 0.5\n",
    "\n",
    "# Calculate the z-test statistic\n",
    "z_statistic = (p_hat - p_0) / ((p_0 * (1 - p_0)) / n) ** 0.5\n",
    "\n",
    "# Calculate the one-tailed p-value\n",
    "p_value = stats.norm.sf(z_statistic)  # sf is the survival function (1 - cdf for one-tailed test)\n",
    "\n",
    "# Print results\n",
    "print(f\"Number of correct identifications: {correct_count}\")\n",
    "print(f\"Sample proportion (p_hat): {p_hat:.4f}\")\n",
    "print(f\"Z-test statistic: {z_statistic:.4f}\")\n",
    "print(f\"One-tailed p-value: {p_value:.4f}\")\n"
   ]
  },
  {
   "cell_type": "markdown",
   "id": "1eae03db",
   "metadata": {},
   "source": [
    "Question 9.\n",
    "Mostly"
   ]
  },
  {
   "cell_type": "markdown",
   "id": "5ddcb66b",
   "metadata": {},
   "source": [
    "chatgpt link:https://chatgpt.com/share/670f02b9-6374-8007-8310-3587c7e2cca4 and summary for all questions: This conversation covered various statistical concepts, including hypothesis testing, the formulation of null and alternative hypotheses, p-value interpretation, and the application of a one-tailed z-test in a tea tasting experiment. We discussed how to analyze data from a sample of students identifying the order of pouring tea and milk, detailing the process for calculating test statistics and p-values, while also providing code for reproducibility."
   ]
  }
 ],
 "metadata": {
  "kernelspec": {
   "display_name": "Python 3 (ipykernel)",
   "language": "python",
   "name": "python3"
  },
  "language_info": {
   "codemirror_mode": {
    "name": "ipython",
    "version": 3
   },
   "file_extension": ".py",
   "mimetype": "text/x-python",
   "name": "python",
   "nbconvert_exporter": "python",
   "pygments_lexer": "ipython3",
   "version": "3.11.6"
  }
 },
 "nbformat": 4,
 "nbformat_minor": 5
}
