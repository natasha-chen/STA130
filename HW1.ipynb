{
 "cells": [
  {
   "cell_type": "code",
   "execution_count": 1,
   "id": "41abe7ca",
   "metadata": {},
   "outputs": [
    {
     "name": "stdout",
     "output_type": "stream",
     "text": [
      "#               0\n",
      "Name            0\n",
      "Type 1          0\n",
      "Type 2        386\n",
      "HP              0\n",
      "Attack          0\n",
      "Defense         0\n",
      "Sp. Atk         0\n",
      "Sp. Def         0\n",
      "Speed           0\n",
      "Generation      0\n",
      "Legendary       0\n",
      "dtype: int64\n"
     ]
    }
   ],
   "source": [
    "import pandas as pd\n",
    "\n",
    "# Load the dataset from the URL\n",
    "url = \"https://raw.githubusercontent.com/KeithGalli/pandas/master/pokemon_data.csv\"\n",
    "df = pd.read_csv(url)\n",
    "\n",
    "# Get the count of missing values for each column\n",
    "missing_counts = df.isnull().sum()\n",
    "\n",
    "# Output the missing values count\n",
    "print(missing_counts)"
   ]
  },
  {
   "cell_type": "code",
   "execution_count": 3,
   "id": "e910b7b3",
   "metadata": {},
   "outputs": [
    {
     "name": "stdout",
     "output_type": "stream",
     "text": [
      "The dataset has 800 rows and 12 columns.\n"
     ]
    }
   ],
   "source": [
    "import pandas as pd\n",
    "\n",
    "# Load the dataset into a DataFrame\n",
    "url = \"https://raw.githubusercontent.com/KeithGalli/pandas/master/pokemon_data.csv\"\n",
    "df = pd.read_csv(url)\n",
    "\n",
    "# Get the shape of the DataFrame\n",
    "num_rows, num_columns = df.shape\n",
    "\n",
    "# Print the results\n",
    "print(f\"The dataset has {num_rows} rows and {num_columns} columns.\")"
   ]
  },
  {
   "cell_type": "markdown",
   "id": "25d71b47",
   "metadata": {},
   "source": [
    "\"observations\": characteristics of a data point represented by a row\n",
    "\"variables\": characteristics recorded of all observations represented by a column"
   ]
  },
  {
   "cell_type": "code",
   "execution_count": 5,
   "id": "161e293a",
   "metadata": {},
   "outputs": [
    {
     "name": "stdout",
     "output_type": "stream",
     "text": [
      "Descriptive Statistics for Numerical Columns:\n",
      "\n",
      "                #          HP      Attack     Defense     Sp. Atk     Sp. Def  \\\n",
      "count  800.000000  800.000000  800.000000  800.000000  800.000000  800.000000   \n",
      "mean   362.813750   69.258750   79.001250   73.842500   72.820000   71.902500   \n",
      "std    208.343798   25.534669   32.457366   31.183501   32.722294   27.828916   \n",
      "min      1.000000    1.000000    5.000000    5.000000   10.000000   20.000000   \n",
      "25%    184.750000   50.000000   55.000000   50.000000   49.750000   50.000000   \n",
      "50%    364.500000   65.000000   75.000000   70.000000   65.000000   70.000000   \n",
      "75%    539.250000   80.000000  100.000000   90.000000   95.000000   90.000000   \n",
      "max    721.000000  255.000000  190.000000  230.000000  194.000000  230.000000   \n",
      "\n",
      "            Speed  Generation  \n",
      "count  800.000000   800.00000  \n",
      "mean    68.277500     3.32375  \n",
      "std     29.060474     1.66129  \n",
      "min      5.000000     1.00000  \n",
      "25%     45.000000     2.00000  \n",
      "50%     65.000000     3.00000  \n",
      "75%     90.000000     5.00000  \n",
      "max    180.000000     6.00000  \n",
      "\n",
      "Distribution of Pokémon by Primary Type:\n",
      "\n",
      "Type 1\n",
      "Water       112\n",
      "Normal       98\n",
      "Grass        70\n",
      "Bug          69\n",
      "Psychic      57\n",
      "Fire         52\n",
      "Electric     44\n",
      "Rock         44\n",
      "Dragon       32\n",
      "Ground       32\n",
      "Ghost        32\n",
      "Dark         31\n",
      "Poison       28\n",
      "Steel        27\n",
      "Fighting     27\n",
      "Ice          24\n",
      "Fairy        17\n",
      "Flying        4\n",
      "Name: count, dtype: int64\n"
     ]
    }
   ],
   "source": [
    "import pandas as pd\n",
    "\n",
    "# Load the dataset\n",
    "url = \"https://raw.githubusercontent.com/KeithGalli/pandas/master/pokemon_data.csv\"\n",
    "df = pd.read_csv(url)\n",
    "\n",
    "# Descriptive statistics for numerical columns\n",
    "print(\"Descriptive Statistics for Numerical Columns:\\n\")\n",
    "print(df.describe())\n",
    "\n",
    "# Value counts for categorical columns like 'Type 1'\n",
    "print(\"\\nDistribution of Pokémon by Primary Type:\\n\")\n",
    "print(df['Type 1'].value_counts())"
   ]
  },
  {
   "cell_type": "markdown",
   "id": "c0f9a6f6",
   "metadata": {},
   "source": [
    "\"attributes\": access characteristics of an object within the object. It does not compute anything since it is an existing value. \n",
    "\"method\": a function that computes the data within the object that may need arguments inputed (which is why it has ()). It returns a new object or modifies the original one. "
   ]
  },
  {
   "cell_type": "markdown",
   "id": "89d4523b",
   "metadata": {},
   "source": [
    "ChatGPT link:https://chatgpt.com/c/66ddfbd2-01cc-8007-8ad4-ea838530bb25 and summary: \n",
    "\n",
    "Dataset: Pokémon dataset from GitHub (link).\n",
    "\n",
    "Used df.shape to determine that the dataset has 800 rows (observations) and 12 columns (variables).\n",
    "Observations & Variables:\n",
    "\n",
    "Observations: Each row represents a Pokémon.\n",
    "Variables: Each column represents an attribute (e.g., Name, Type 1, HP).\n",
    "Data Summary:\n",
    "\n",
    "df.describe(): Provides statistical summaries of numerical columns (e.g., mean, min, max).\n",
    "df['column'].value_counts(): Displays the frequency of unique values in categorical columns (e.g., Pokémon types).\n",
    "Attributes vs. Methods:\n",
    "\n",
    "Attributes (e.g., df.shape): Represent stored information and do not use parentheses.\n",
    "Methods (e.g., df.describe()): Perform actions or computations and require parentheses.\n",
    "This summary outlines our key discussions on analyzing and summarizing the Pokémon dataset using pandas."
   ]
  }
 ],
 "metadata": {
  "kernelspec": {
   "display_name": "Python 3 (ipykernel)",
   "language": "python",
   "name": "python3"
  },
  "language_info": {
   "codemirror_mode": {
    "name": "ipython",
    "version": 3
   },
   "file_extension": ".py",
   "mimetype": "text/x-python",
   "name": "python",
   "nbconvert_exporter": "python",
   "pygments_lexer": "ipython3",
   "version": "3.11.6"
  }
 },
 "nbformat": 4,
 "nbformat_minor": 5
}
