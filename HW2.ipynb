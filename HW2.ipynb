{
 "cells": [
  {
   "cell_type": "markdown",
   "id": "2543ad5e",
   "metadata": {},
   "source": [
    "Pre-lec hw\n",
    "Question 1, 2 and 3.  \n",
    "This is the code that Chatgpt provided:"
   ]
  },
  {
   "cell_type": "code",
   "execution_count": 1,
   "id": "f8b730cc",
   "metadata": {},
   "outputs": [
    {
     "name": "stdout",
     "output_type": "stream",
     "text": [
      "0.6653\n"
     ]
    }
   ],
   "source": [
    "import numpy as np\n",
    "\n",
    "# Define variables\n",
    "all_door_options = [1, 2, 3]\n",
    "reps = 100000\n",
    "i_won = 0\n",
    "\n",
    "# Loop through simulations\n",
    "for _ in range(reps):\n",
    "    # Step 1: Randomly select the winning door\n",
    "    secret_winning_door = np.random.choice(all_door_options)\n",
    "    \n",
    "    # Step 2: Player's initial choice (always door 1 for simplicity)\n",
    "    my_door_choice = 1\n",
    "    \n",
    "    # Step 3: Monty reveals a goat door (not the winning or player's door)\n",
    "    remaining_doors = [door for door in all_door_options if door != my_door_choice and door != secret_winning_door]\n",
    "    goat_door_reveal = np.random.choice(remaining_doors)\n",
    "    \n",
    "    # Step 4: Player switches to the other remaining door\n",
    "    remaining_door = [door for door in all_door_options if door != my_door_choice and door != goat_door_reveal][0]\n",
    "    my_door_choice = remaining_door\n",
    "    \n",
    "    # Step 5: Check if the new door choice is the winning door\n",
    "    if my_door_choice == secret_winning_door:\n",
    "        i_won += 1\n",
    "\n",
    "# Calculate and print win ratio\n",
    "win_ratio = i_won / reps\n",
    "print(win_ratio)"
   ]
  },
  {
   "cell_type": "markdown",
   "id": "41030830",
   "metadata": {},
   "source": [
    "I have a preference for the code with improvements suggest by ChatGPT because it has less lines of code is is simpler to understand because of that. I feel that because chat has written the code in it's own style, the explainations are also more comprehensible than the explaination it provided for the original code that it did not write. "
   ]
  },
  {
   "cell_type": "markdown",
   "id": "01473e53",
   "metadata": {},
   "source": [
    "Question 5. \n",
    "1. Extention 1: ChatGPT link: https://chatgpt.com/c/66e8c7a8-c1bc-8007-ae0d-e22759255571 and summary: We discussed a Python simulation of the Monty Hall problem using the \"swap\" strategy, where switching doors after Monty reveals a goat results in a higher probability of winning. I explained the original code in detail and then provided a simpler, more streamlined version of the simulation to make it clearer and easier to understand.\n",
    "\n",
    "2. Extention 2: ChatGPT link:https://chatgpt.com/c/66e9ecb1-36ec-8007-be11-c0ea703b19dc and summary: You shared a Python implementation of a Markov chain to predict the next word in a sequence, then extended it to handle word pairs (bigrams) grouped by characters from a dataset. I explained the logic, suggested improvements using defaultdict, and offered help with text generation based on the model."
   ]
  },
  {
   "cell_type": "markdown",
   "id": "adddb294",
   "metadata": {},
   "source": [
    "Question 6. \n",
    "1. Discuss how quickly the ChatBot was able to be helpful for each of the above questions, and if so, how?\n",
    "Chatgpt was able to be helpful for both the Monte Hall and Markovian questions in the first generation of answers, but for the Markovian question, I had to clarify a couple functions of the code to understand it. So overall, it was pretty efficient.\n",
    "\n",
    "2. Discuss whether or not interacting with ChatBot to try to figure things out was frustrating or unhelpful, and if so, how?\n",
    "It was really fruitful as I always ended the conversations having a better grasps on the concepts I asked about. It is not frustrating or unhelpful in the slightest because if I don't understand something or I don't understand what i don't understand, chat will reword explainations until I get it. \n",
    "\n",
    "3. Based on your experiences to date (e.g., including using ChatBots to troubleshoot coding errors in the previous homework), provide an overall assessment evaluating the usefulness of ChatBots as tools to help you understand code\n",
    "I have never used ChatBots to troubleshoot coding errors in previous homework but now that I have tried it, I will definitely continue to after the course. Overall, Chat is really helpful as a tool to understand code because with real people, it is oftentimes difficult to make time to get explainations becasue everyone has a life and has different schedules. Chat on the other hand is very accessible and convenient to use. "
   ]
  },
  {
   "cell_type": "markdown",
   "id": "7efe6b5a",
   "metadata": {},
   "source": [
    "Question 7.\n",
    "My interactions with ChatBot are very pleasant and fruitful as I always end the conversation with an overall better idea of the concepts I was trying to learn. AI-driven assistance is extremely helpful in terms of learning coding, statistics and data science especially in this course. Before taking this course, I would ocasionally use Chatgpt to help my brainstorm ideas or topics for school projects, but that was the extent of what I did. Now, I am more inclinded to turn to Chat instead of Google to learn because of how quickly and consistently it is able to help me in the first search. "
   ]
  },
  {
   "cell_type": "markdown",
   "id": "9563c741",
   "metadata": {},
   "source": [
    "Question 8. \n",
    "Chat link: https://chatgpt.com/c/66eb8168-0fe0-8007-a96a-d7a55e3c4af8 and summary: In this conversation, we discussed the importance of four key skills—learning and adaptability, communication, coding, and statistics/data analysis—in the modern world, particularly in the data science industry. These skills enable professionals to stay competitive, solve complex problems, and communicate insights effectively. They are critical for career growth in areas like machine learning, AI, and data-driven decision-making.\n",
    "\n",
    "My thoughts: ChatGPT has emphasized that the relevance of the skills of learning and adaptability, communication, coding, and statistics and data analysis are valuable in the modern world. Going about to learn or polish these skills will greatly increase my chances of working in the field and achieving a high position. However, the suggestions that Chat provided were pretty general and things that I already knew. In this sense, the answered are not personalised to me specifcially as opposed to a human who knows me giving me advice on how to build skills for my future profession, or a professional in the field. The next steps I would take to further the depth of the answers would be to ask chatgpt to \"give me advice on skills I need to build to become successful in pursuing coding as a profession. pretend you are a professional in the field\". "
   ]
  }
 ],
 "metadata": {
  "kernelspec": {
   "display_name": "Python 3 (ipykernel)",
   "language": "python",
   "name": "python3"
  },
  "language_info": {
   "codemirror_mode": {
    "name": "ipython",
    "version": 3
   },
   "file_extension": ".py",
   "mimetype": "text/x-python",
   "name": "python",
   "nbconvert_exporter": "python",
   "pygments_lexer": "ipython3",
   "version": "3.11.6"
  }
 },
 "nbformat": 4,
 "nbformat_minor": 5
}
