{
 "cells": [
  {
   "cell_type": "code",
   "execution_count": null,
   "id": "cd414016",
   "metadata": {},
   "outputs": [],
   "source": [
    "import pandas as pd\n",
    "\n",
    "# Load the dataset from the URL\n",
    "url = \"https://raw.githubusercontent.com/KeithGalli/pandas/master/pokemon_data.csv\"\n",
    "df = pd.read_csv(url)\n",
    "\n",
    "# Get the count of missing values for each column\n",
    "missing_counts = df.isnull().sum()\n",
    "\n",
    "# Output the missing values count\n",
    "print(missing_counts)"
   ]
  },
  {
   "cell_type": "code",
   "execution_count": null,
   "id": "056cfda1",
   "metadata": {},
   "outputs": [],
   "source": [
    "import pandas as pd\n",
    "\n",
    "# Load the dataset into a DataFrame\n",
    "url = \"https://raw.githubusercontent.com/KeithGalli/pandas/master/pokemon_data.csv\"\n",
    "df = pd.read_csv(url)\n",
    "\n",
    "# Get the shape of the DataFrame\n",
    "num_rows, num_columns = df.shape\n",
    "\n",
    "# Print the results\n",
    "print(f\"The dataset has {num_rows} rows and {num_columns} columns.\")"
   ]
  },
  {
   "cell_type": "markdown",
   "id": "3ea74a43",
   "metadata": {},
   "source": [
    "\"observations\": characteristics of a data point represented by a row\n",
    "\"variables\": characteristics recorded of all observations represented by a column"
   ]
  },
  {
   "cell_type": "code",
   "execution_count": null,
   "id": "4ef47b95",
   "metadata": {},
   "outputs": [],
   "source": [
    "import pandas as pd\n",
    "\n",
    "# Load the dataset\n",
    "url = \"https://raw.githubusercontent.com/KeithGalli/pandas/master/pokemon_data.csv\"\n",
    "df = pd.read_csv(url)\n",
    "\n",
    "# Descriptive statistics for numerical columns\n",
    "print(\"Descriptive Statistics for Numerical Columns:\\n\")\n",
    "print(df.describe())\n",
    "\n",
    "# Value counts for categorical columns like 'Type 1'\n",
    "print(\"\\nDistribution of Pokémon by Primary Type:\\n\")\n",
    "print(df['Type 1'].value_counts())"
   ]
  },
  {
   "cell_type": "markdown",
   "id": "d74639cb",
   "metadata": {},
   "source": [
    "\"attributes\": access characteristics of an object within the object. It does not compute anything since it is an existing value. \n",
    "\"method\": a function that computes the data within the object that may need arguments inputed (which is why it has ()). It returns a new object or modifies the original one. "
   ]
  },
  {
   "cell_type": "markdown",
   "id": "65b80075",
   "metadata": {},
   "source": [
    "ChatGPT link:https://chatgpt.com/c/66ddfbd2-01cc-8007-8ad4-ea838530bb25 and summary: \n",
    "\n",
    "Dataset: Pokémon dataset from GitHub (link).\n",
    "\n",
    "Used df.shape to determine that the dataset has 800 rows (observations) and 12 columns (variables).\n",
    "Observations & Variables:\n",
    "\n",
    "Observations: Each row represents a Pokémon.\n",
    "Variables: Each column represents an attribute (e.g., Name, Type 1, HP).\n",
    "Data Summary:\n",
    "\n",
    "df.describe(): Provides statistical summaries of numerical columns (e.g., mean, min, max).\n",
    "df['column'].value_counts(): Displays the frequency of unique values in categorical columns (e.g., Pokémon types).\n",
    "Attributes vs. Methods:\n",
    "\n",
    "Attributes (e.g., df.shape): Represent stored information and do not use parentheses.\n",
    "Methods (e.g., df.describe()): Perform actions or computations and require parentheses.\n",
    "This summary outlines our key discussions on analyzing and summarizing the Pokémon dataset using pandas."
   ]
  }
 ],
 "metadata": {
  "kernelspec": {
   "display_name": "Python 3 (ipykernel)",
   "language": "python",
   "name": "python3"
  },
  "language_info": {
   "codemirror_mode": {
    "name": "ipython",
    "version": 3
   },
   "file_extension": ".py",
   "mimetype": "text/x-python",
   "name": "python",
   "nbconvert_exporter": "python",
   "pygments_lexer": "ipython3",
   "version": "3.11.6"
  }
 },
 "nbformat": 4,
 "nbformat_minor": 5
}
